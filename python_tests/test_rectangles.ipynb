{
 "cells": [
  {
   "cell_type": "code",
   "execution_count": 42,
   "metadata": {
    "collapsed": true
   },
   "outputs": [],
   "source": [
    "import numpy as np\n",
    "import cv2\n",
    "import math as mt"
   ]
  },
  {
   "cell_type": "code",
   "execution_count": 44,
   "metadata": {
    "collapsed": true
   },
   "outputs": [],
   "source": [
    "# Create a black image\n",
    "#img = np.zeros((512,512,3), np.uint8)\n",
    "img = np.zeros((512,512), np.uint8)"
   ]
  },
  {
   "cell_type": "code",
   "execution_count": 45,
   "metadata": {
    "collapsed": false
   },
   "outputs": [
    {
     "data": {
      "text/plain": [
       "True"
      ]
     },
     "execution_count": 45,
     "metadata": {},
     "output_type": "execute_result"
    }
   ],
   "source": [
    "cv2.imwrite('test.jpg',img)"
   ]
  },
  {
   "cell_type": "code",
   "execution_count": 30,
   "metadata": {
    "collapsed": false
   },
   "outputs": [
    {
     "data": {
      "text/plain": [
       "256"
      ]
     },
     "execution_count": 30,
     "metadata": {},
     "output_type": "execute_result"
    }
   ],
   "source": [
    "512/2"
   ]
  },
  {
   "cell_type": "code",
   "execution_count": 39,
   "metadata": {
    "collapsed": false
   },
   "outputs": [],
   "source": [
    "for i in range(-100,100):\n",
    "    for j in range(-100,100):\n",
    "        img[256+i][256+j] = 255"
   ]
  },
  {
   "cell_type": "code",
   "execution_count": 28,
   "metadata": {
    "collapsed": false
   },
   "outputs": [
    {
     "data": {
      "text/plain": [
       "255"
      ]
     },
     "execution_count": 28,
     "metadata": {},
     "output_type": "execute_result"
    }
   ],
   "source": [
    "img[100][100]"
   ]
  },
  {
   "cell_type": "code",
   "execution_count": 402,
   "metadata": {
    "collapsed": false
   },
   "outputs": [
    {
     "data": {
      "text/plain": [
       "True"
      ]
     },
     "execution_count": 402,
     "metadata": {},
     "output_type": "execute_result"
    }
   ],
   "source": [
    "img = np.zeros((512,512), np.uint8)\n",
    "cv2.imwrite('test.jpg',img)"
   ]
  },
  {
   "cell_type": "code",
   "execution_count": 400,
   "metadata": {
    "collapsed": false
   },
   "outputs": [],
   "source": [
    "def f(x,y,xc,yc,r,mu):\n",
    "    val = 1.\n",
    "    val = val/( 1. + mt.exp(-mu*(x - xc + r))  )\n",
    "    val = val/( 1. + mt.exp(-mu*(xc - x + r))  )\n",
    "    val = val/( 1. + mt.exp(-mu*( y - yc + r))  )\n",
    "    val = val/( 1. + mt.exp(-mu*( yc - y + r))  )\n",
    "    return val"
   ]
  },
  {
   "cell_type": "code",
   "execution_count": 407,
   "metadata": {
    "collapsed": false
   },
   "outputs": [],
   "source": [
    "#  THIS ONE WORKS BETTER !!!\n",
    "# THIS IS THE WAY TO GO !!!\n",
    "\n",
    "xc = 256\n",
    "yc = 256\n",
    "mu = 4.0\n",
    "r = 100\n",
    "for j in range(512):\n",
    "    for i in range(512):\n",
    "        #print i , j , f(i,j,xc,yc,r,mu)\n",
    "        img[i][j] = 255*f(i,j,xc,yc,r,mu)"
   ]
  },
  {
   "cell_type": "code",
   "execution_count": 177,
   "metadata": {
    "collapsed": false
   },
   "outputs": [],
   "source": [
    "# THIS ONE WORKS! -- DO NOT CHANGE IT!\n",
    "\n",
    "xc = 256\n",
    "yc = 256\n",
    "mu = 4.0\n",
    "r = 100\n",
    "for i in range(xc-r,xc+r):\n",
    "    for j in range(yc-r,yc+r):\n",
    "        #print i , j , f(i,j,xc,yc,r,mu)\n",
    "        img[i][j] = 255*f(i,j,xc,yc,r,mu)"
   ]
  },
  {
   "cell_type": "code",
   "execution_count": 408,
   "metadata": {
    "collapsed": false
   },
   "outputs": [
    {
     "data": {
      "text/plain": [
       "True"
      ]
     },
     "execution_count": 408,
     "metadata": {},
     "output_type": "execute_result"
    }
   ],
   "source": [
    "cv2.imwrite('test.jpg',img)"
   ]
  },
  {
   "cell_type": "code",
   "execution_count": 420,
   "metadata": {
    "collapsed": false
   },
   "outputs": [
    {
     "data": {
      "text/plain": [
       "True"
      ]
     },
     "execution_count": 420,
     "metadata": {},
     "output_type": "execute_result"
    }
   ],
   "source": [
    "img = np.zeros((512,512), np.uint8)\n",
    "cv2.imwrite('test.jpg',img)"
   ]
  },
  {
   "cell_type": "code",
   "execution_count": 421,
   "metadata": {
    "collapsed": true
   },
   "outputs": [],
   "source": [
    "# This function and the next cell generates a diamond !\n",
    "# theta  = 45 degrees!\n",
    "\n",
    "def g(x,y,xc,yc,r,mu):\n",
    "    val = 1.\n",
    "    \n",
    "    # Right-upper part of diamond\n",
    "    val = val/( 1. + mt.exp(-mu*( (x - xc) + r - (y - yc)  ))  )\n",
    "    \n",
    "    # Right-lower part of diamond\n",
    "    val = val/( 1. + mt.exp(-mu*( - (x - xc) + r - (y - yc) ))  )\n",
    "    \n",
    "    # Left-upper pert of diamond\n",
    "    val = val/( 1. + mt.exp(-mu*( (x - xc) + (y - yc) + r ))  )\n",
    "    \n",
    "    # Left-lower pert of diamond\n",
    "    val = val/( 1. + mt.exp(-mu*( - (x - xc) + (y - yc) + r ))  )\n",
    "    return val"
   ]
  },
  {
   "cell_type": "code",
   "execution_count": 424,
   "metadata": {
    "collapsed": false
   },
   "outputs": [],
   "source": [
    "xc = 256\n",
    "yc = 256\n",
    "mu = 1.0\n",
    "r = 100\n",
    "for j in range(512):\n",
    "    for i in range(512):\n",
    "        #print i , j , f(i,j,xc,yc,r,mu)\n",
    "        img[i][j] = 255*g(i,j,xc,yc,r,mu)"
   ]
  },
  {
   "cell_type": "code",
   "execution_count": 425,
   "metadata": {
    "collapsed": false
   },
   "outputs": [
    {
     "data": {
      "text/plain": [
       "True"
      ]
     },
     "execution_count": 425,
     "metadata": {},
     "output_type": "execute_result"
    }
   ],
   "source": [
    "cv2.imwrite('test.jpg',img)"
   ]
  },
  {
   "cell_type": "code",
   "execution_count": 573,
   "metadata": {
    "collapsed": false
   },
   "outputs": [
    {
     "data": {
      "text/plain": [
       "True"
      ]
     },
     "execution_count": 573,
     "metadata": {},
     "output_type": "execute_result"
    }
   ],
   "source": [
    "img = np.zeros((512,512), np.uint8)\n",
    "cv2.imwrite('test.jpg',img)"
   ]
  },
  {
   "cell_type": "code",
   "execution_count": 593,
   "metadata": {
    "collapsed": true
   },
   "outputs": [],
   "source": [
    "# Making progress in rotating a rectangle....almost there!\n",
    "\n",
    "def h(x,y,xc,yc,rx,ry,mu,theta):\n",
    "    \n",
    "    # INVERSE ROTATION!!!\n",
    "    cVal = mt.cos(mt.pi*theta/180)\n",
    "    sVal = mt.sin(mt.pi*theta/180)\n",
    "    tVal = mt.tan(mt.pi*theta/180)\n",
    "    \n",
    "    val = 1.\n",
    "    \n",
    "    \n",
    "    # Right-lower part of diamond\n",
    "    val = val/( 1. + mt.exp(-mu*( - (x - xc)*cVal - (y - yc)*sVal + ry  ))  )\n",
    "    \n",
    "    # Left-upper pert of diamond\n",
    "    val = val/( 1. + mt.exp(-mu*( + (x - xc)*cVal + (y - yc)*sVal + ry ))  )\n",
    "    \n",
    "    \n",
    "    # Right-upper part of diamond\n",
    "    #val = val/( 1. + mt.exp(-mu*mt.sqrt(2)*( (x - xc)/mt.sqrt(2) - (y - yc)/mt.sqrt(2) + r   ))  )\n",
    "    \n",
    "    val = val/( 1. + mt.exp(-mu*( (x - xc)*sVal - (y - yc)*cVal + rx   ))  )\n",
    "    \n",
    "    \n",
    "    # Left-lower pert of diamond\n",
    "    val = val/( 1. + mt.exp(-mu*( - (x - xc)*sVal + (y - yc)*cVal + rx ))  )\n",
    "    \n",
    "    return val"
   ]
  },
  {
   "cell_type": "code",
   "execution_count": 596,
   "metadata": {
    "collapsed": false
   },
   "outputs": [],
   "source": [
    "theta = 30;\n",
    "xc = 256\n",
    "yc = 256\n",
    "mu = 1.0\n",
    "rx = 200\n",
    "ry = 100\n",
    "for j in range(512):\n",
    "    for i in range(512):\n",
    "        #print i , j , f(i,j,xc,yc,r,mu)\n",
    "        img[i][j] = 255*h(i,j,xc,yc,rx,ry,mu,theta)"
   ]
  },
  {
   "cell_type": "code",
   "execution_count": 597,
   "metadata": {
    "collapsed": false
   },
   "outputs": [
    {
     "data": {
      "text/plain": [
       "True"
      ]
     },
     "execution_count": 597,
     "metadata": {},
     "output_type": "execute_result"
    }
   ],
   "source": [
    "cv2.imwrite('test.jpg',img)"
   ]
  },
  {
   "cell_type": "code",
   "execution_count": 636,
   "metadata": {
    "collapsed": false
   },
   "outputs": [],
   "source": [
    "def J1(x,y,xc,yc,rx,ry,mu,theta):\n",
    "    \n",
    "    \n",
    "    cVal = mt.cos(mt.pi*(90-theta)/180)\n",
    "    sVal = mt.sin(mt.pi*(90-theta)/180)\n",
    "    \n",
    "    val = 1.\n",
    "    \n",
    "    \n",
    "    # Right-lower part of diamond\n",
    "    val = val/( 1. + mt.exp(-mu*( - (x - xc)*sVal - (y - yc)*cVal + ry ))  )\n",
    "    \n",
    "    # Left-upper pert of diamond\n",
    "    val = val/( 1. + mt.exp(-mu*( + (x - xc)*sVal + (y - yc)*cVal + ry ))  )\n",
    "    \n",
    "    \n",
    "    # Right-upper part of diamond\n",
    "    #val = val/( 1. + mt.exp(-mu*mt.sqrt(2)*( (x - xc)/mt.sqrt(2) - (y - yc)/mt.sqrt(2) + r   ))  )\n",
    "    \n",
    "    val = val/( 1. + mt.exp(-mu*( (x - xc)*cVal - (y - yc)*sVal + rx   ))  )\n",
    "    \n",
    "    \n",
    "    # Left-lower pert of diamond\n",
    "    val = val/( 1. + mt.exp(-mu*( - (x - xc)*cVal + (y - yc)*sVal + rx ))  )\n",
    "    \n",
    "    return val"
   ]
  },
  {
   "cell_type": "code",
   "execution_count": 634,
   "metadata": {
    "collapsed": false
   },
   "outputs": [],
   "source": [
    "img = np.zeros((512,512), np.uint8)\n",
    "cv2.imwrite('test.jpg',img)\n",
    "\n",
    "theta = 0;\n",
    "xc = 256\n",
    "yc = 256\n",
    "mu = 1.0\n",
    "rx = 100\n",
    "ry = 50\n",
    "for j in range(512):\n",
    "    for i in range(512):\n",
    "        #print i , j , f(i,j,xc,yc,r,mu)\n",
    "        img[i][j] = 255*J1(i,j,xc,yc,rx,ry,mu,theta)\n"
   ]
  },
  {
   "cell_type": "code",
   "execution_count": 635,
   "metadata": {
    "collapsed": false
   },
   "outputs": [
    {
     "data": {
      "text/plain": [
       "True"
      ]
     },
     "execution_count": 635,
     "metadata": {},
     "output_type": "execute_result"
    }
   ],
   "source": [
    "cv2.imwrite('test.jpg',img)"
   ]
  },
  {
   "cell_type": "code",
   "execution_count": 703,
   "metadata": {
    "collapsed": true
   },
   "outputs": [],
   "source": [
    "def J2(x,y,xc,yc,rx,ry,mu,theta):\n",
    "    \n",
    "    # Counter clock-wise rotation!!!\n",
    "    # Why?\n",
    "    #cVal = mt.cos(mt.pi*(90+theta)/180)\n",
    "    #sVal = mt.sin(mt.pi*(90+theta)/180)\n",
    "    \n",
    "    sVal = mt.sin(mt.pi*(theta)/180)\n",
    "    cVal = mt.cos(mt.pi*(theta)/180)\n",
    "    \n",
    "    val = 1.\n",
    "    \n",
    "    \n",
    "    \n",
    "     # Negative (clockwise) rotation on x-xc and y - yc!!!\n",
    "    \n",
    "    # Right-lower part of diamond\n",
    "    val = val/( 1. + mt.exp(-mu*( - (x - xc)*cVal - (y - yc)*sVal + ry ))  )\n",
    "    \n",
    "    # Left-upper pert of diamond\n",
    "    val = val/( 1. + mt.exp(-mu*( + (x - xc)*cVal + (y - yc)*sVal + ry ))  )\n",
    "    \n",
    "    \n",
    "    # Right-upper part of diamond\n",
    "    #val = val/( 1. + mt.exp(-mu*mt.sqrt(2)*( (x - xc)/mt.sqrt(2) - (y - yc)/mt.sqrt(2) + r   ))  )\n",
    "    \n",
    "    val = val/( 1. + mt.exp(-mu*(  (x - xc)*sVal - (y - yc)*cVal + rx   ))  )\n",
    "    \n",
    "    \n",
    "    # Left-lower pert of diamond\n",
    "    val = val/( 1. + mt.exp(-mu*( -(x - xc)*sVal + (y - yc)*cVal + rx ))  )\n",
    "    \n",
    "    return val"
   ]
  },
  {
   "cell_type": "code",
   "execution_count": 706,
   "metadata": {
    "collapsed": true
   },
   "outputs": [],
   "source": [
    "img = np.zeros((512,512), np.uint8)\n",
    "cv2.imwrite('test.jpg',img)\n",
    "\n",
    "theta = 0;\n",
    "xc = 256\n",
    "yc = 256\n",
    "mu = 1.0\n",
    "rx = 100\n",
    "ry = 50\n",
    "for j in range(512):\n",
    "    for i in range(512):\n",
    "        #print i , j , f(i,j,xc,yc,r,mu)\n",
    "        img[i][j] = 255*J2(i,j,xc,yc,rx,ry,mu,theta)\n"
   ]
  },
  {
   "cell_type": "code",
   "execution_count": 707,
   "metadata": {
    "collapsed": false
   },
   "outputs": [
    {
     "data": {
      "text/plain": [
       "True"
      ]
     },
     "execution_count": 707,
     "metadata": {},
     "output_type": "execute_result"
    }
   ],
   "source": [
    "cv2.imwrite('test.jpg',img)"
   ]
  },
  {
   "cell_type": "code",
   "execution_count": 722,
   "metadata": {
    "collapsed": true
   },
   "outputs": [],
   "source": [
    "### THIS IS IT!\n",
    "### THIS IS THE FUNCTION TO WORK WITH!!!\n",
    "### KEEP IN MIND YOU ARE ROTATING THE REFERENCE FRAME !!!\n",
    "\n",
    "\n",
    "def J3(x,y,xc,yc,rx,ry,mu,theta):\n",
    "    \n",
    "    \n",
    "    sVal = mt.sin(mt.pi*(90-theta)/180)\n",
    "    cVal = mt.cos(mt.pi*(90-theta)/180)\n",
    "    \n",
    "    val = 1.\n",
    "\n",
    "     # Positive (counter-clockwise) rotation on x-xc and y - yc!!!\n",
    "    xNew = (x - xc)*cVal - (y - yc)*sVal\n",
    "    yNew = (x - xc)*sVal + (y - yc)*cVal\n",
    "    \n",
    "\n",
    "    \n",
    "    # Right-lower part of diamond\n",
    "    val = val/( 1. + mt.exp(-mu*( - yNew + ry ))  )\n",
    "    \n",
    "    # Left-upper pert of diamond\n",
    "    val = val/( 1. + mt.exp(-mu*( yNew + ry ))  )\n",
    "    \n",
    "    \n",
    "    # Right-upper part of diamond\n",
    "    #val = val/( 1. + mt.exp(-mu*mt.sqrt(2)*( (x - xc)/mt.sqrt(2) - (y - yc)/mt.sqrt(2) + r   ))  )\n",
    "    \n",
    "    val = val/( 1. + mt.exp(-mu*(  xNew + rx   ))  )\n",
    "    \n",
    "    \n",
    "    # Left-lower pert of diamond\n",
    "    val = val/( 1. + mt.exp(-mu*( -xNew + rx ))  )\n",
    "    \n",
    "    return val"
   ]
  },
  {
   "cell_type": "code",
   "execution_count": 729,
   "metadata": {
    "collapsed": true
   },
   "outputs": [],
   "source": [
    "img = np.zeros((512,512), np.uint8)\n",
    "cv2.imwrite('test.jpg',img)\n",
    "\n",
    "theta = 90;\n",
    "xc = 256\n",
    "yc = 256\n",
    "mu = 1.0\n",
    "rx = 200\n",
    "ry = 50\n",
    "for j in range(512):\n",
    "    for i in range(512):\n",
    "        #print i , j , f(i,j,xc,yc,r,mu)\n",
    "        img[i][j] = 255*J3(i,j,xc,yc,rx,ry,mu,theta)\n"
   ]
  },
  {
   "cell_type": "code",
   "execution_count": 730,
   "metadata": {
    "collapsed": false
   },
   "outputs": [
    {
     "data": {
      "text/plain": [
       "True"
      ]
     },
     "execution_count": 730,
     "metadata": {},
     "output_type": "execute_result"
    }
   ],
   "source": [
    "cv2.imwrite('test.jpg',img)"
   ]
  },
  {
   "cell_type": "code",
   "execution_count": null,
   "metadata": {
    "collapsed": true
   },
   "outputs": [],
   "source": []
  }
 ],
 "metadata": {
  "kernelspec": {
   "display_name": "Python 2",
   "language": "python",
   "name": "python2"
  },
  "language_info": {
   "codemirror_mode": {
    "name": "ipython",
    "version": 2
   },
   "file_extension": ".py",
   "mimetype": "text/x-python",
   "name": "python",
   "nbconvert_exporter": "python",
   "pygments_lexer": "ipython2",
   "version": "2.7.9"
  }
 },
 "nbformat": 4,
 "nbformat_minor": 0
}
